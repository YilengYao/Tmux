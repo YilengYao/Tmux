{
 "cells": [
  {
   "cell_type": "markdown",
   "id": "8e79d09d-65fe-4c68-8a51-aee8cb0f6caf",
   "metadata": {
    "tags": []
   },
   "source": [
    "## Tmux\n",
    "terminal multiplexer\n",
    "\n",
    "installation"
   ]
  },
  {
   "cell_type": "code",
   "execution_count": null,
   "id": "8e9fbecf-d076-4688-889f-218be31a15b9",
   "metadata": {
    "scrolled": true,
    "tags": []
   },
   "outputs": [],
   "source": [
    "%%bash\n",
    "# on mac\n",
    "brew install tmux\n"
   ]
  },
  {
   "cell_type": "markdown",
   "id": "21e39f2a-4a04-4ae6-a02f-5de3dda8a5a4",
   "metadata": {},
   "source": [
    "Create `~/.tmux.conf` file"
   ]
  },
  {
   "cell_type": "code",
   "execution_count": null,
   "id": "c78cceba-fd2e-4711-a9e0-e00043160d60",
   "metadata": {
    "tags": []
   },
   "outputs": [],
   "source": [
    "%%bash\n",
    "touch ~/.tmux.conf"
   ]
  },
  {
   "cell_type": "markdown",
   "id": "900fc5de-928f-4927-a233-24dce71b4520",
   "metadata": {
    "tags": []
   },
   "source": [
    "Configure True Colors\n",
    "\n",
    "Open `~/.tmux.conf` and add the following:"
   ]
  },
  {
   "cell_type": "code",
   "execution_count": null,
   "id": "3bcacc8c-1d22-43d7-8079-39e1344d8b9b",
   "metadata": {
    "tags": []
   },
   "outputs": [],
   "source": [
    "set -g default-terminal \"screen-256color\""
   ]
  },
  {
   "cell_type": "raw",
   "id": "970b085e-c4dc-4c27-86ca-1adfb1d69c9b",
   "metadata": {
    "tags": []
   },
   "source": [
    "Change Default TMUX Prefix to \"Ctrl-a\"\n",
    "\n",
    "Add the following to `~/.tmux.conf`:"
   ]
  },
  {
   "cell_type": "code",
   "execution_count": null,
   "id": "e7f46a01-d500-4bc1-bce8-96a6b7e94afc",
   "metadata": {},
   "outputs": [],
   "source": [
    "set -g prefix C-a\n",
    "unbind C-b\n",
    "bind-key C-a send-prefix\n",
    "\n",
    "# for nested tmux sessions\n",
    "bind-key a send-prefix"
   ]
  },
  {
   "cell_type": "markdown",
   "id": "fa945f8c-e8f2-4222-b5de-c5c2cbd68ae2",
   "metadata": {},
   "source": [
    "Change keybinds for splitting windows\n",
    "\n",
    "Add this to `~/.tmux.conf`:"
   ]
  },
  {
   "cell_type": "code",
   "execution_count": null,
   "id": "7e73a880-9714-4bef-8a72-8fa9de4c7669",
   "metadata": {},
   "outputs": [],
   "source": [
    "unbind %\n",
    "bind | split-window -h\n",
    "\n",
    "unbind '\"'\n",
    "bind - split-window -v"
   ]
  },
  {
   "cell_type": "markdown",
   "id": "042bd39c-3d9b-4487-9f48-b1393fb973db",
   "metadata": {},
   "source": [
    "Add keybind for easily refreshing tmux configuration\n",
    "\n",
    "Add this to `~/.tmux.conf` to be able to refresh tmux config with \"Ctrl-a\" and then \"r\":"
   ]
  },
  {
   "cell_type": "code",
   "execution_count": null,
   "id": "8c0e11c3-ab07-4f07-9b90-545b8398f5dc",
   "metadata": {},
   "outputs": [],
   "source": [
    "unbind r\n",
    "bind r source-file ~/.tmux.conf"
   ]
  },
  {
   "cell_type": "markdown",
   "id": "28825822-f317-4c0e-ab5f-bb33602906f0",
   "metadata": {},
   "source": [
    "Add keybinds for easily resizing tmux panes\n",
    "\n",
    "Add these to `~/.tmux.conf`:"
   ]
  },
  {
   "cell_type": "code",
   "execution_count": null,
   "id": "f43e4a0b-794b-406c-b848-180abe00ce99",
   "metadata": {},
   "outputs": [],
   "source": [
    "bind -r j resize-pane -D 5\n",
    "bind -r k resize-pane -U 5\n",
    "bind -r l resize-pane -R 5\n",
    "bind -r h resize-pane -L 5"
   ]
  },
  {
   "cell_type": "markdown",
   "id": "87a72009-6e4b-4c46-a904-b06c57a5a49d",
   "metadata": {},
   "source": [
    "Add keybind for maximizing and minimizing tmux pane\n",
    "\n",
    "Add the following to `~/.tmux.conf`:"
   ]
  },
  {
   "cell_type": "code",
   "execution_count": null,
   "id": "3a71ded1-bb8f-440f-b04d-295dfa343245",
   "metadata": {
    "tags": []
   },
   "outputs": [],
   "source": [
    "bind -r m resize-pane -Z"
   ]
  },
  {
   "cell_type": "markdown",
   "id": "c407033f-8e1d-47bb-a790-566f63a94a02",
   "metadata": {},
   "source": [
    "Enable the mouse in tmux\n",
    "\n",
    "Add the following to `~/.tmux.conf`:"
   ]
  },
  {
   "cell_type": "code",
   "execution_count": null,
   "id": "750ad83c-5e7a-4899-94f1-a73535608deb",
   "metadata": {
    "tags": []
   },
   "outputs": [],
   "source": [
    "set -g mouse on"
   ]
  },
  {
   "cell_type": "markdown",
   "id": "b3fd7f50-ac88-484b-af76-7389bf9e8229",
   "metadata": {},
   "source": [
    "Configure vim movements for tmux's copy mode\n",
    "\n",
    "Add the following to `~/.tmux.conf`:"
   ]
  },
  {
   "cell_type": "code",
   "execution_count": null,
   "id": "56116fd3-a8fe-450a-8382-4e958cf8af93",
   "metadata": {},
   "outputs": [],
   "source": [
    "set-window-option -g mode-keys vi\n",
    "\n",
    "bind-key -T copy-mode-vi 'v' send -X begin-selection # start selecting text with \"v\"\n",
    "bind-key -T copy-mode-vi 'y' send -X copy-selection # copy text with \"y\"\n",
    "\n",
    "unbind -T copy-mode-vi MouseDragEnd1Pane # don't exit copy mode after dragging with mouse"
   ]
  },
  {
   "cell_type": "code",
   "execution_count": null,
   "id": "2a93f725-989b-4362-b747-91ddfdaaa110",
   "metadata": {},
   "outputs": [],
   "source": [
    "set -g default-terminal \"screen-256color\"\n",
    "\n",
    "set -g prefix C-a\n",
    "unbind C-b\n",
    "bind-key C-a send-prefix\n",
    "\n",
    "unbind %\n",
    "bind | split-window -h\n",
    "\n",
    "unbind '\"'\n",
    "bind - split-window -v\n",
    "\n",
    "unbind r\n",
    "bind r source-file ~/.tmux.conf\n",
    "\n",
    "bind -r j resize-pane -D 5\n",
    "bind -r k resize-pane -U 5\n",
    "bind -r l resize-pane -R 5\n",
    "bind -r h resize-pane -L 5\n",
    "\n",
    "bind -r m resize-pane -Z\n",
    "\n",
    "set -g mouse on\n",
    "\n",
    "set-window-option -g mode-keys vi\n",
    "\n",
    "bind-key -T copy-mode-vi 'v' send -X begin-selection # start selecting text with \"v\"\n",
    "bind-key -T copy-mode-vi 'y' send -X copy-selection # copy text with \"y\"\n",
    "\n",
    "unbind -T copy-mode-vi MouseDragEnd1Pane # don't exit copy mode after dragging with mouse"
   ]
  }
 ],
 "metadata": {
  "kernelspec": {
   "display_name": "Python 3 (ipykernel)",
   "language": "python",
   "name": "python3"
  },
  "language_info": {
   "codemirror_mode": {
    "name": "ipython",
    "version": 3
   },
   "file_extension": ".py",
   "mimetype": "text/x-python",
   "name": "python",
   "nbconvert_exporter": "python",
   "pygments_lexer": "ipython3",
   "version": "3.9.6"
  }
 },
 "nbformat": 4,
 "nbformat_minor": 5
}
