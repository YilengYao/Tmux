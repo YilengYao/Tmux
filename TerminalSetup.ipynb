{
 "cells": [
  {
   "cell_type": "code",
   "execution_count": null,
   "id": "eab6b2d0-d091-4f10-9239-2f5f74228ba7",
   "metadata": {
    "scrolled": true
   },
   "outputs": [],
   "source": [
    "%%bash\n",
    "brew install --cast item2"
   ]
  },
  {
   "cell_type": "code",
   "execution_count": null,
   "id": "fb839049-d3b4-48b7-b6d8-809e884cff95",
   "metadata": {},
   "outputs": [],
   "source": [
    "%%bash\n",
    "sh -c \"$(curl -fsSL https://raw.githubusercontent.com/ohmyzsh/ohmyzsh/master/tools/install.sh)\""
   ]
  },
  {
   "cell_type": "code",
   "execution_count": null,
   "id": "a6ac20c4-54a3-4926-b5e1-48e05c8d4ca4",
   "metadata": {},
   "outputs": [],
   "source": [
    "%%bash\n",
    "git clone https://github.com/romkatv/powerlevel10k.git $ZSH_CUSTOM/themes/powerlevel10k"
   ]
  },
  {
   "cell_type": "code",
   "execution_count": null,
   "id": "11bc6e8c-3e3b-4874-98ce-db5dee78061c",
   "metadata": {},
   "outputs": [],
   "source": [
    "%%bash\n",
    "echo 'ZSH_THEME=\"powerlevel10k/powerlevel10k\"' >> ~/.zshrc"
   ]
  },
  {
   "cell_type": "code",
   "execution_count": null,
   "id": "9df91040-0341-4929-8f8a-c764da28e9b7",
   "metadata": {},
   "outputs": [],
   "source": [
    "%%bash\n",
    "git clone https://github.com/zsh-users/zsh-autosuggestions ${ZSH_CUSTOM:-~/.oh-my-zsh/custom}/plugins/zsh-autosuggestions\n",
    "git clone https://github.com/zsh-users/zsh-syntax-highlighting.git ${ZSH_CUSTOM:-~/.oh-my-zsh/custom}/plugins/zsh-syntax-highlighting\n",
    "\n"
   ]
  },
  {
   "cell_type": "code",
   "execution_count": null,
   "id": "dc2f12eb-0b16-4a1e-a128-98cbe0295ede",
   "metadata": {},
   "outputs": [],
   "source": [
    "%%bash\n",
    "echo 'plugins=(git zsh-autosuggestions zsh-syntax-highlighting web-search)' >> ~/.zshrc\n"
   ]
  }
 ],
 "metadata": {
  "kernelspec": {
   "display_name": "Python 3 (ipykernel)",
   "language": "python",
   "name": "python3"
  },
  "language_info": {
   "codemirror_mode": {
    "name": "ipython",
    "version": 3
   },
   "file_extension": ".py",
   "mimetype": "text/x-python",
   "name": "python",
   "nbconvert_exporter": "python",
   "pygments_lexer": "ipython3",
   "version": "3.9.6"
  }
 },
 "nbformat": 4,
 "nbformat_minor": 5
}
