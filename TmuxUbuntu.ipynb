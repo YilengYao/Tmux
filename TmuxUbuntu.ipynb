{
 "cells": [
  {
   "cell_type": "markdown",
   "id": "f3ff44eb-4a70-4743-8492-ebec805ebe3f",
   "metadata": {
    "tags": []
   },
   "source": [
    "## Tmux\n",
    "terminal multiplexer\n",
    "\n",
    "installation"
   ]
  },
  {
   "cell_type": "code",
   "execution_count": null,
   "id": "681c1db7-c600-4939-aaa9-f7dd3afc3b06",
   "metadata": {},
   "outputs": [],
   "source": [
    "# on ubuntu\n",
    "sudo apt install tmux"
   ]
  },
  {
   "cell_type": "markdown",
   "id": "5e497885-4a14-4531-b076-07a0d4d409d7",
   "metadata": {},
   "source": [
    "Create `~/.tmux.conf` file"
   ]
  },
  {
   "cell_type": "markdown",
   "id": "d4e5d37d-68a1-4611-8541-483be5cbf0e1",
   "metadata": {},
   "source": [
    "Create `~/.tmux.conf` filec"
   ]
  },
  {
   "cell_type": "markdown",
   "id": "c0db1e91-a9c6-4059-8394-0dec7bc1dad9",
   "metadata": {
    "tags": []
   },
   "source": [
    "Configure True Colors\n",
    "\n",
    "Open `~/.tmux.conf` and add the following:"
   ]
  },
  {
   "cell_type": "code",
   "execution_count": null,
   "id": "1a6925c2-b9e8-48f7-80f8-4fc233391a1f",
   "metadata": {
    "tags": []
   },
   "outputs": [],
   "source": [
    "set -g default-terminal \"screen-256color\""
   ]
  },
  {
   "cell_type": "markdown",
   "id": "227c9c64-b79a-48ce-92d0-726cd8e0e9f7",
   "metadata": {
    "tags": []
   },
   "source": [
    "Change Default TMUX Prefix to \"Ctrl-a\"\n",
    "\n",
    "Add the following to `~/.tmux.conf`:"
   ]
  },
  {
   "cell_type": "code",
   "execution_count": null,
   "id": "52d08d12-8ef0-4f0b-970b-385045413e92",
   "metadata": {},
   "outputs": [],
   "source": [
    "set -g prefix C-a\n",
    "unbind C-b\n",
    "bind-key C-a send-prefix\n",
    "\n",
    "# for nested tmux sessions\n",
    "bind-key a send-prefix"
   ]
  },
  {
   "cell_type": "markdown",
   "id": "ded9f9cc-b29f-45e3-ac17-d44060622aac",
   "metadata": {},
   "source": [
    "Change keybinds for splitting windows\n",
    "\n",
    "- split vertically `alt + |`\n",
    "- split horizontally `alt + -`\n",
    "\n",
    "Add this to `~/.tmux.conf`:"
   ]
  },
  {
   "cell_type": "code",
   "execution_count": null,
   "id": "b3fb7939-baa9-4f74-a18b-234340189870",
   "metadata": {},
   "outputs": [],
   "source": [
    "# Use alt + {|, -} to split windows {horizontally, vertically}\n",
    "unbind %\n",
    "bind -n M-| split-window -h \n",
    "\n",
    "unbind '\"'\n",
    "bind -n M-- split-window -v"
   ]
  },
  {
   "cell_type": "markdown",
   "id": "39549d14-8873-4ac6-a353-278c402797e9",
   "metadata": {},
   "source": [
    "Add keybind for easily refreshing tmux configuration\n",
    "\n",
    "Add this to `~/.tmux.conf` to be able to refresh tmux config with \"alt\" and then \"r\":"
   ]
  },
  {
   "cell_type": "markdown",
   "id": "fea77618-4c8b-46d9-86c4-33f54e7f68c6",
   "metadata": {},
   "source": [
    "Dealing with windows \n",
    "- `alt + c` create new window\n",
    "- `alt + p` select previous window\n",
    "- `alt + n` select next window"
   ]
  },
  {
   "cell_type": "code",
   "execution_count": null,
   "id": "64c5417c-b4f0-43cb-9ff3-210891ae3e25",
   "metadata": {},
   "outputs": [],
   "source": [
    "# window keybindings\n",
    "## create new window alt + c\n",
    "bind -n M-c new-window\n",
    "\n",
    "## move to previous window with alt + p\n",
    "bind -n M-p previous-window\n",
    "\n",
    "## move to next window with alt + n\n",
    "bind -n M-n next-window"
   ]
  },
  {
   "cell_type": "code",
   "execution_count": null,
   "id": "42e45b2d-5b74-4b5a-9352-91588c4474ab",
   "metadata": {},
   "outputs": [],
   "source": [
    "# Use ctrl + a + r to refresh tmux config\n",
    "unbind r\n",
    "bind -n M-r source-file ~/.tmux.conf \\; display \"Reloaded tmux.conf\""
   ]
  },
  {
   "cell_type": "markdown",
   "id": "317ec122-53e2-4206-95a4-9f95621b5191",
   "metadata": {},
   "source": [
    "To be able to change panes\n",
    "- `alt + h` select left pane\n",
    "- `alt + j` select up pane\n",
    "- `alt + k` select down pane\n",
    "- `alt + l` select right pane"
   ]
  },
  {
   "cell_type": "code",
   "execution_count": null,
   "id": "62c2a842-24f5-48d9-99bf-026013bdf78f",
   "metadata": {},
   "outputs": [],
   "source": [
    "# Use alt + {h, j, k, l} to which panes {left, up, down, right}v\n",
    "bind -n M-h select-pane -L\n",
    "bind -n M-j select-pane -U\n",
    "bind -n M-l select-pane -D\n",
    "bind -n M-l select-pane -R"
   ]
  },
  {
   "cell_type": "markdown",
   "id": "d0cdfa33-0da5-4c64-9e26-48792f20092b",
   "metadata": {},
   "source": [
    "Change keybinds for splitting windows\n",
    "\n",
    "Add this to `~/.tmux.conf`:"
   ]
  },
  {
   "cell_type": "code",
   "execution_count": null,
   "id": "3a71ded1-bb8f-440f-b04d-295dfa343245",
   "metadata": {
    "tags": []
   },
   "outputs": [],
   "source": [
    "bind -r m resize-pane -Z"
   ]
  },
  {
   "cell_type": "markdown",
   "id": "b0b7f41b-f8ed-4fc8-b26c-58422e662f62",
   "metadata": {},
   "source": [
    "Enable the mouse in tmux\n",
    "\n",
    "Add the following to `~/.tmux.conf`:"
   ]
  },
  {
   "cell_type": "code",
   "execution_count": null,
   "id": "0df07b2f-de86-49f6-ac12-dccb59dab255",
   "metadata": {
    "tags": []
   },
   "outputs": [],
   "source": [
    "set -g mouse on"
   ]
  },
  {
   "cell_type": "markdown",
   "id": "f2e7216b-8c41-4f6d-8907-6eaf19c6fb4f",
   "metadata": {},
   "source": [
    "Configure vim movements for tmux's copy mode\n",
    "\n",
    "Add the following to `~/.tmux.conf`:"
   ]
  },
  {
   "cell_type": "code",
   "execution_count": null,
   "id": "4d4ef14f-b823-4667-bbdb-dc7f05d40a30",
   "metadata": {},
   "outputs": [],
   "source": [
    "set-window-option -g mode-keys vi\n",
    "\n",
    "bind-key -T copy-mode-vi 'v' send -X begin-selection # start selecting text with \"v\"\n",
    "bind-key -T copy-mode-vi 'y' send -X copy-selection # copy text with \"y\"\n",
    "\n",
    "unbind -T copy-mode-vi MouseDragEnd1Pane # don't exit copy mode after dragging with mouse"
   ]
  },
  {
   "cell_type": "markdown",
   "id": "974a6401-fe99-47ac-9409-a7982af39360",
   "metadata": {},
   "source": [
    "## Install tpm (tmux plugin manager)"
   ]
  },
  {
   "cell_type": "code",
   "execution_count": null,
   "id": "f86122f7-4a23-4c38-98ff-8a18d6672202",
   "metadata": {},
   "outputs": [],
   "source": [
    "%%bash\n",
    "git clone git@github.com:tmux-plugins/tpm.git ~/.tmux/plugins/tpm"
   ]
  },
  {
   "cell_type": "markdown",
   "id": "84879d5a-37fc-4d67-9d9e-83178e8cc1d9",
   "metadata": {},
   "source": [
    "Add and configure tmux plugins with tpm\n",
    "\n",
    "Add the following to ~/.tmux.conf:"
   ]
  },
  {
   "cell_type": "code",
   "execution_count": null,
   "id": "41433fab-0c8e-4cbf-9efa-5d046230d13b",
   "metadata": {},
   "outputs": [],
   "source": [
    "# tpm plugin\n",
    "set -g @plugin 'tmux-plugins/tpm'\n",
    "\n",
    "# list of tmux plugins\n",
    "set -g @plugin 'christoomey/vim-tmux-navigator' # for navigating panes and vim/nvim with Ctrl-hjkl\n",
    "set -g @plugin 'jimeh/tmux-themepack' # to configure tmux theme\n",
    "set -g @plugin 'tmux-plugins/tmux-resurrect' # persist tmux sessions after computer restart\n",
    "set -g @plugin 'tmux-plugins/tmux-continuum' # automatically saves sessions for you every 15 minutes\n",
    "\n",
    "set -g @themepack 'powerline/default/cyan' # use this theme for tmux\n",
    "\n",
    "set -g @resurrect-capture-pane-contents 'on' # allow tmux-ressurect to capture pane contents\n",
    "set -g @continuum-restore 'on' # enable tmux-continuum functionality\n",
    "\n",
    "# Initialize TMUX plugin manager (keep this line at the very bottom of tmux.conf)\n",
    "run '~/.tmux/plugins/tpm/tpm'"
   ]
  },
  {
   "cell_type": "markdown",
   "id": "9e3b5839-ca79-4f54-ab1f-b09a0e48b64a",
   "metadata": {},
   "source": [
    "# Full `~/.tmux.conf`"
   ]
  },
  {
   "cell_type": "code",
   "execution_count": null,
   "id": "ae6f5479-67cf-47e2-bc9a-56dec7989049",
   "metadata": {},
   "outputs": [],
   "source": [
    "set -g default-terminal \"screen-256color\"\n",
    "\n",
    "# unbind default prefix and set it to Ctrl+a\n",
    "unbind C-b\n",
    "set -g prefix C-a\n",
    "bind C-a send-prefix\n",
    "\n",
    "\n",
    "# for nested tmux sessions\n",
    "bind-key a send-prefix\n",
    "\n",
    "\n",
    "# Use alt + {|, -} to split windows {horizontally, vertically}\n",
    "unbind %\n",
    "bind -n M-| split-window -h \n",
    "\n",
    "unbind '\"'\n",
    "bind -n M-- split-window -v\n",
    "\n",
    "\n",
    "# Use alt + {h, j, k, l} to which panes {left, up, down, right}\n",
    "bind -n M-h select-pane -L\n",
    "bind -n M-j select-pane -U\n",
    "bind -n M-l select-pane -D\n",
    "bind -n M-l select-pane -R\n",
    "\n",
    "\n",
    "# window keybindings\n",
    "## create new window alt + c\n",
    "bind -n M-c new-window\n",
    "\n",
    "## move to previous window with alt + p\n",
    "bind -n M-p previous-window\n",
    "\n",
    "## move to next window with alt + n\n",
    "bind -n M-n next-window\n",
    "\n",
    "\n",
    "# Use ctrl + a + r to refresh tmux config\n",
    "unbind r\n",
    "bind -n M-r source-file ~/.tmux.conf \\; display \"Reloaded tmux.conf\"\n",
    "\n",
    "# bind -r m resize-pane -Z\n",
    "\n",
    "\n",
    "# Mouse Mode\n",
    "set -g mouse on\n",
    "\n",
    "set-window-option -g mode-keys vi\n",
    "\n",
    "bind-key -T copy-mode-vi 'v' send -X begin-selection # start selecting text with \"v\"\n",
    "bind-key -T copy-mode-vi 'y' send -X copy-selection # copy text with \"y\"\n",
    "\n",
    "unbind -T copy-mode-vi MouseDragEnd1Pane # don't exit copy mode after dragging with mouse\n",
    "\n",
    "# tpm plugin\n",
    "set -g @plugin 'tmux-plugins/tpm'\n",
    "\n",
    "# list of tmux plugins\n",
    "set -g @plugin 'christoomey/vim-tmux-navigator' # for navigating panes and vim/nvim with Ctrl-hjkl\n",
    "set -g @plugin 'jimeh/tmux-themepack' # to configure tmux theme\n",
    "set -g @plugin 'tmux-plugins/tmux-resurrect' # persist tmux sessions after computer restart\n",
    "set -g @plugin 'tmux-plugins/tmux-continuum' # automatically saves sessions for you every 15 minutes\n",
    "\n",
    "set -g @themepack 'powerline/default/cyan' # use this theme for tmux\n",
    "\n",
    "set -g @resurrect-capture-pane-contents 'on' # allow tmux-ressurect to capture pane contents\n",
    "set -g @continuum-restore 'on' # enable tmux-continuum functionality\n",
    "\n",
    "# Initialize TMUX plugin manager (keep this line at the very bottom of tmux.conf)\n",
    "run '~/.tmux/plugins/tpm/tpm'"
   ]
  }
 ],
 "metadata": {
  "kernelspec": {
   "display_name": "Python 3",
   "language": "python",
   "name": "python3"
  },
  "language_info": {
   "codemirror_mode": {
    "name": "ipython",
    "version": 3
   },
   "file_extension": ".py",
   "mimetype": "text/x-python",
   "name": "python",
   "nbconvert_exporter": "python",
   "pygments_lexer": "ipython3",
   "version": "3.6.9"
  }
 },
 "nbformat": 4,
 "nbformat_minor": 5
}
